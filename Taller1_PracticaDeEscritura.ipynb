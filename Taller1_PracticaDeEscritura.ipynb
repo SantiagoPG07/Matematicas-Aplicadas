{
  "nbformat": 4,
  "nbformat_minor": 0,
  "metadata": {
    "colab": {
      "provenance": [],
      "authorship_tag": "ABX9TyP86gFSqCWSRIGeWJAlFERr",
      "include_colab_link": true
    },
    "kernelspec": {
      "name": "python3",
      "display_name": "Python 3"
    },
    "language_info": {
      "name": "python"
    }
  },
  "cells": [
    {
      "cell_type": "markdown",
      "metadata": {
        "id": "view-in-github",
        "colab_type": "text"
      },
      "source": [
        "<a href=\"https://colab.research.google.com/github/SantiagoPG07/Matematicas-Aplicadas/blob/main/Taller1_PracticaDeEscritura.ipynb\" target=\"_parent\"><img src=\"https://colab.research.google.com/assets/colab-badge.svg\" alt=\"Open In Colab\"/></a>"
      ]
    },
    {
      "cell_type": "markdown",
      "source": [
        "<font type = 'Times New Roman' size = 3 color = 'green'> Miguel Santiago Peña / A00412206 </font>\n",
        "\n",
        "$$$$\n",
        "\n",
        "<tittle><center><font size = 6 color = 'Red'> TALLER 1 </font></center></tittle>\n",
        "\n",
        "$$$$\n",
        "\n",
        "* <font color = 'Blue' size = 3> Primer Punto: </font>\n",
        "    * <b> 1. Area lateral de un cilindro: </b>\n",
        "      * <i> Ecuacion normal: </i> $$ A = 2\\pi r g $$\n",
        "      * <i> Ecuacion Despejada: </i> $$ r = \\frac{A}{2\\pi g}$$\n",
        "    \n",
        "    $$$$\n",
        "\n",
        "    * <b> 2. Volumen del cono: </b>\n",
        "      * <i> Ecuacion normal: </i> $$ V = \\frac{A_g \\cdot h}{3} $$\n",
        "      * <i> Ecuacion Despejada: </i> $$ h = \\frac{3V}{A_g} $$\n",
        "\n",
        "    $$$$\n",
        "\n",
        "    * <b> 3. Volumen de la esfera: </b>\n",
        "      * <i> Ecuacion normal: </i> $$ V = \\frac{4}{3} \\pi r^3 $$\n",
        "\n",
        "      * <i> Ecuacion Despejada: </i> $$ r = \\sqrt[3]{\\frac{3V}{4\\pi}} $$\n",
        "\n",
        "    $$$$\n",
        "\n",
        "    * <b> 4. Área del trapecio: </b>\n",
        "      * <i> Ecuacion normal: </i> $$ A = \\frac{(B + b) h}{2} $$\n",
        "\n",
        "      * <i> Ecuacion Despejada: </i> $$h = \\frac{2A}{B+b} $$\n",
        "\n",
        "    $$$$\n",
        "\n",
        "    * <b> 5. Intensidad eléctrica: </b>\n",
        "      * <i> Ecuacion normal: </i> $$ I = \\frac{q}{t} $$\n",
        "\n",
        "      * <i> Ecuacion Despejada: </i> $$ q = I \\cdot t $$\n",
        "\n",
        "    $$$$\n",
        "\n",
        "    * <b> 6. Ley de Ohm: </b>\n",
        "      * <i> Ecuacion normal: </i> $$ I = \\frac{V}{R} $$\n",
        "\n",
        "      * <i> Ecuacion Despejada: </i> $$ R = \\frac{V}{I} $$\n",
        "\n",
        "    $$$$\n",
        "\n",
        "    * <b> 7. Energía eléctrica: </b>\n",
        "      * <i> Ecuacion normal: </i> $$ E = \\frac{V^2}{R} $$\n",
        "\n",
        "      * <i> Ecuacion Despejada: </i> $$ R = \\frac{V^2}{E} $$\n",
        "\n",
        "    $$$$\n",
        "\n",
        "    * <b> 8. Resistencias en paralelo: </b>\n",
        "      * <i> Ecuacion normal: </i> $$ \\frac{1}{R} = \\frac{1}{R_1} + \\frac{1}{R_2}$$\n",
        "\n",
        "      * <i> Ecuacion Despejada: </i> $$ R = \\frac{1}{\\frac{1}{R_1} + \\frac{1}{R_2}} $$\n",
        "\n",
        "    $$$$\n",
        "\n",
        "    * <b> 9. Ecuación de los gases perfectos: </b>\n",
        "      * <i> Ecuacion normal: </i> $$ \\frac{P V}{T} = \\frac{P_f V_f}{T_f} $$\n",
        "\n",
        "      * <i> Ecuacion Despejada: </i> $$ P_f = \\frac{P V T_f}{V_f T} $$\n",
        "\n",
        "    $$$$\n",
        "\n",
        "    * <b> 10. Intensidad eléctrica: </b>\n",
        "      * <i> Ecuacion normal: </i> $$ I = \\frac{V_A - V_B}{R} $$\n",
        "\n",
        "      * <i> Ecuacion Despejada: </i> $$ V_B = V_A - I R  $$\n",
        "\n",
        "\n",
        "$$$$\n",
        "\n",
        "* <font color = 'Blue' size = 3> Segundo Punto: </font>\n"
      ],
      "metadata": {
        "id": "cyVZfQuUlzEf"
      }
    },
    {
      "cell_type": "code",
      "source": [
        "\n",
        "# Primera expresión:\n",
        "\n",
        "expresion1 = (3 * (-5 + 10 + (-5)) - 2 * ((-2) + (-4) + 10)) ** 2\n",
        "\n",
        "# Segunda expresión:\n",
        "expresion2 = int(45 + (3 * (2 + 8) - 8 / 4) + 10 - 83)\n",
        "\n",
        "# Tercera expresión:\n",
        "expresion3 = (((-4 + 7) ** 2) - 10) * (-4) - 7 - 3\n",
        "\n",
        "# Mostramos los resultados\n",
        "print(\"El resultado de la expresion [3(-5 + 10 + (-5)) - 2((-2) + (-4) + 10)]^2 es:\",expresion1) #Resultado expresion 1\n",
        "\n",
        "print(\"El resultado de la expresion 45 + [3 * (2 + 8) - 8/4] + 10 - 83 es:\",expresion2) #Resultado expresion 2\n",
        "\n",
        "print(\"El resultado de la expresion [( -4 + 7)^2 - 10] * (-4) - 7 - 3 es:\",expresion3) #Resultado expresion 3\n"
      ],
      "metadata": {
        "colab": {
          "base_uri": "https://localhost:8080/"
        },
        "id": "EXZs0xyvtnVS",
        "outputId": "b7ae5d10-ac80-4b51-a257-63118e0b4a05"
      },
      "execution_count": 6,
      "outputs": [
        {
          "output_type": "stream",
          "name": "stdout",
          "text": [
            "El resultado de la expresion [3(-5 + 10 + (-5)) - 2((-2) + (-4) + 10)]^2 es: 64\n",
            "El resultado de la expresion 45 + [3 * (2 + 8) - 8/4] + 10 - 83 es: 0\n",
            "El resultado de la expresion [( -4 + 7)^2 - 10] * (-4) - 7 - 3 es: -6\n"
          ]
        }
      ]
    },
    {
      "cell_type": "markdown",
      "source": [
        "* <font color = 'Blue' size = 3> Tercer Punto: </font>"
      ],
      "metadata": {
        "id": "4UeNxndMvzda"
      }
    },
    {
      "cell_type": "code",
      "source": [
        "\n",
        "# Primera expresión\n",
        "expresion1 = (1/5) * ((1/2)**2 + (3/4)**2) + (10/25) * ((1/2)**2 + (3/4)**2) + (8/40) * ((1/2)**2 + (3/4)**2)\n",
        "\n",
        "# Segunda expresión\n",
        "expresion2 = int((9/4) * (6/8)**-1 - (5/2) * (25/20)**-1 + (40/8) * (20/16)**-1)\n",
        "\n",
        "# Mostramos los resultados\n",
        "\n",
        "print(\"El resultado para la expresion (1/5) * ((1/2)**2 + (3/4)**2) + (10/25) * ((1/2)**2 + (3/4)**2) + (8/40) * ((1/2)**2 + (3/4)**2) es:\", expresion1)\n",
        "\n",
        "print(\"El resultado para la expresion (9/4) * (6/8)**-1 - (5/2) * (25/20)**-1 + (40/8) * (20/16)**-1 es:\", expresion2)\n"
      ],
      "metadata": {
        "colab": {
          "base_uri": "https://localhost:8080/"
        },
        "id": "Adzp78rdv8Kf",
        "outputId": "797e31f1-848c-4b74-d84f-e18bd2effccb"
      },
      "execution_count": 8,
      "outputs": [
        {
          "output_type": "stream",
          "name": "stdout",
          "text": [
            "El resultado para la expresion (1/5) * ((1/2)**2 + (3/4)**2) + (10/25) * ((1/2)**2 + (3/4)**2) + (8/40) * ((1/2)**2 + (3/4)**2) es: 0.65\n",
            "El resultado para la expresion (9/4) * (6/8)**-1 - (5/2) * (25/20)**-1 + (40/8) * (20/16)**-1 es: 5\n"
          ]
        }
      ]
    },
    {
      "cell_type": "markdown",
      "source": [
        "* <font color = 'Blue' size = 3> Cuarto Punto: </font>\n"
      ],
      "metadata": {
        "id": "TJlq-vbdw75M"
      }
    },
    {
      "cell_type": "code",
      "source": [
        "# Darle la bievenida al usuario.\n",
        "\n",
        "print(\"Bienvenido, con este programa podras calcular tu IMC solo con ingresar ciertos datos, COMENZEMOS 😊\")\n",
        "\n",
        "# Soliciar al usuario su"
      ],
      "metadata": {
        "id": "W3mkliHHxCx2"
      },
      "execution_count": null,
      "outputs": []
    }
  ]
}