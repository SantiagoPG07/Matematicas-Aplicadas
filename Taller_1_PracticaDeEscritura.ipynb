{
  "nbformat": 4,
  "nbformat_minor": 0,
  "metadata": {
    "colab": {
      "provenance": [],
      "authorship_tag": "ABX9TyNDmJn0Sbt0HfCdI+fsmQQP",
      "include_colab_link": true
    },
    "kernelspec": {
      "name": "python3",
      "display_name": "Python 3"
    },
    "language_info": {
      "name": "python"
    }
  },
  "cells": [
    {
      "cell_type": "markdown",
      "metadata": {
        "id": "view-in-github",
        "colab_type": "text"
      },
      "source": [
        "<a href=\"https://colab.research.google.com/github/SantiagoPG07/Matematicas-Aplicadas/blob/main/Taller_1_PracticaDeEscritura.ipynb\" target=\"_parent\"><img src=\"https://colab.research.google.com/assets/colab-badge.svg\" alt=\"Open In Colab\"/></a>"
      ]
    },
    {
      "cell_type": "markdown",
      "source": [
        "<font type = 'Times New Roman' size = 3 color = 'green'> Miguel Santiago Peña / A00412206 </font>\n",
        "\n",
        "$$$$\n",
        "\n",
        "<tittle><center><font size = 6 color = 'Red'> TALLER 1 </font></center></tittle>\n",
        "\n",
        "$$$$\n",
        "\n",
        "* <font color = 'Blue' size = 3> Primer Punto: </font>\n",
        "    * <b> 1. Area lateral de un cilindro: </b>\n",
        "      * <i> Ecuacion normal: </i> $$ A = 2\\pi r g $$\n",
        "      * <i> Ecuacion Despejada: </i> $$ r = \\frac{A}{2\\pi g}$$\n",
        "    \n",
        "    $$$$\n",
        "\n",
        "    * <b> 2. Volumen del cono: </b>\n",
        "      * <i> Ecuacion normal: </i> $$ V = \\frac{A_g \\cdot h}{3} $$\n",
        "      * <i> Ecuacion Despejada: </i> $$ h = \\frac{3V}{A_g} $$\n",
        "\n",
        "    $$$$\n",
        "\n",
        "    * <b> 3. Volumen de la esfera: </b>\n",
        "      * <i> Ecuacion normal: </i> $$ V = \\frac{4}{3} \\pi r^3 $$\n",
        "\n",
        "      * <i> Ecuacion Despejada: </i> $$ r = \\sqrt[3]{\\frac{3V}{4\\pi}} $$\n",
        "\n",
        "    $$$$\n",
        "\n",
        "    * <b> 4. Área del trapecio: </b>\n",
        "      * <i> Ecuacion normal: </i> $$ A = \\frac{(B + b) h}{2} $$\n",
        "\n",
        "      * <i> Ecuacion Despejada: </i> $$h = \\frac{2A}{B+b} $$\n",
        "\n",
        "    $$$$\n",
        "\n",
        "    * <b> 5. Intensidad eléctrica: </b>\n",
        "      * <i> Ecuacion normal: </i> $$ I = \\frac{q}{t} $$\n",
        "\n",
        "      * <i> Ecuacion Despejada: </i> $$ q = I \\cdot t $$\n",
        "\n",
        "    $$$$\n",
        "\n",
        "    * <b> 6. Ley de Ohm: </b>\n",
        "      * <i> Ecuacion normal: </i> $$ I = \\frac{V}{R} $$\n",
        "\n",
        "      * <i> Ecuacion Despejada: </i> $$ R = \\frac{V}{I} $$\n",
        "\n",
        "    $$$$\n",
        "\n",
        "    * <b> 7. Energía eléctrica: </b>\n",
        "      * <i> Ecuacion normal: </i> $$ E = \\frac{V^2}{R} $$\n",
        "\n",
        "      * <i> Ecuacion Despejada: </i> $$ R = \\frac{V^2}{E} $$\n",
        "\n",
        "    $$$$\n",
        "\n",
        "    * <b> 8. Resistencias en paralelo: </b>\n",
        "      * <i> Ecuacion normal: </i> $$ \\frac{1}{R} = \\frac{1}{R_1} + \\frac{1}{R_2}$$\n",
        "\n",
        "      * <i> Ecuacion Despejada: </i> $$ R = \\frac{1}{\\frac{1}{R_1} + \\frac{1}{R_2}} $$\n",
        "\n",
        "    $$$$\n",
        "\n",
        "    * <b> 9. Ecuación de los gases perfectos: </b>\n",
        "      * <i> Ecuacion normal: </i> $$ \\frac{P V}{T} = \\frac{P_f V_f}{T_f} $$\n",
        "\n",
        "      * <i> Ecuacion Despejada: </i> $$ P_f = \\frac{P V T_f}{V_f T} $$\n",
        "\n",
        "    $$$$\n",
        "\n",
        "    * <b> 10. Intensidad eléctrica: </b>\n",
        "      * <i> Ecuacion normal: </i> $$ I = \\frac{V_A - V_B}{R} $$\n",
        "\n",
        "      * <i> Ecuacion Despejada: </i> $$ V_B = V_A - I R  $$\n",
        "\n",
        "\n",
        "$$$$\n",
        "\n",
        "* <font color = 'Blue' size = 3> Segundo Punto: </font>\n"
      ],
      "metadata": {
        "id": "cyVZfQuUlzEf"
      }
    },
    {
      "cell_type": "code",
      "source": [
        "\n",
        "# Primera expresión:\n",
        "\n",
        "expresion1 = (3 * (-5 + 10 + (-5)) - 2 * ((-2) + (-4) + 10)) ** 2\n",
        "\n",
        "# Segunda expresión:\n",
        "expresion2 = int(45 + (3 * (2 + 8) - 8 / 4) + 10 - 83)\n",
        "\n",
        "# Tercera expresión:\n",
        "expresion3 = (((-4 + 7) ** 2) - 10) * (-4) - 7 - 3\n",
        "\n",
        "# Mostramos los resultados\n",
        "print(\"El resultado de la expresion [3(-5 + 10 + (-5)) - 2((-2) + (-4) + 10)]^2 es:\",expresion1) #Resultado expresion 1\n",
        "\n",
        "print(\"El resultado de la expresion 45 + [3 * (2 + 8) - 8/4] + 10 - 83 es:\",expresion2) #Resultado expresion 2\n",
        "\n",
        "print(\"El resultado de la expresion [( -4 + 7)^2 - 10] * (-4) - 7 - 3 es:\",expresion3) #Resultado expresion 3\n"
      ],
      "metadata": {
        "colab": {
          "base_uri": "https://localhost:8080/"
        },
        "id": "EXZs0xyvtnVS",
        "outputId": "b7ae5d10-ac80-4b51-a257-63118e0b4a05"
      },
      "execution_count": 6,
      "outputs": [
        {
          "output_type": "stream",
          "name": "stdout",
          "text": [
            "El resultado de la expresion [3(-5 + 10 + (-5)) - 2((-2) + (-4) + 10)]^2 es: 64\n",
            "El resultado de la expresion 45 + [3 * (2 + 8) - 8/4] + 10 - 83 es: 0\n",
            "El resultado de la expresion [( -4 + 7)^2 - 10] * (-4) - 7 - 3 es: -6\n"
          ]
        }
      ]
    },
    {
      "cell_type": "markdown",
      "source": [
        "* <font color = 'Blue' size = 3> Tercer Punto: </font>"
      ],
      "metadata": {
        "id": "4UeNxndMvzda"
      }
    },
    {
      "cell_type": "code",
      "source": [
        "\n",
        "# Primera expresión\n",
        "expresion1 = (1/5) * ((1/2)**2 + (3/4)**2) + (10/25) * ((1/2)**2 + (3/4)**2) + (8/40) * ((1/2)**2 + (3/4)**2)\n",
        "\n",
        "# Segunda expresión\n",
        "expresion2 = int((9/4) * (6/8)**-1 - (5/2) * (25/20)**-1 + (40/8) * (20/16)**-1)\n",
        "\n",
        "# Mostramos los resultados\n",
        "\n",
        "print(\"El resultado para la expresion (1/5) * ((1/2)**2 + (3/4)**2) + (10/25) * ((1/2)**2 + (3/4)**2) + (8/40) * ((1/2)**2 + (3/4)**2) es:\", expresion1)\n",
        "\n",
        "print(\"El resultado para la expresion (9/4) * (6/8)**-1 - (5/2) * (25/20)**-1 + (40/8) * (20/16)**-1 es:\", expresion2)\n"
      ],
      "metadata": {
        "colab": {
          "base_uri": "https://localhost:8080/"
        },
        "id": "Adzp78rdv8Kf",
        "outputId": "797e31f1-848c-4b74-d84f-e18bd2effccb"
      },
      "execution_count": 8,
      "outputs": [
        {
          "output_type": "stream",
          "name": "stdout",
          "text": [
            "El resultado para la expresion (1/5) * ((1/2)**2 + (3/4)**2) + (10/25) * ((1/2)**2 + (3/4)**2) + (8/40) * ((1/2)**2 + (3/4)**2) es: 0.65\n",
            "El resultado para la expresion (9/4) * (6/8)**-1 - (5/2) * (25/20)**-1 + (40/8) * (20/16)**-1 es: 5\n"
          ]
        }
      ]
    },
    {
      "cell_type": "markdown",
      "source": [
        "* <font color = 'Blue' size = 3> Cuarto Punto: </font>\n"
      ],
      "metadata": {
        "id": "TJlq-vbdw75M"
      }
    },
    {
      "cell_type": "code",
      "source": [
        "# Darle la bievenida al usuario.\n",
        "\n",
        "print(\"Bienvenido, con este programa podras calcular tu IMC solo con ingresar ciertos datos, COMENZEMOS 😊\")\n",
        "\n",
        "# Soliciar al usuario su Peso en kg.\n",
        "\n",
        "peso = int(float(input(\"Por favor ingresa tu peso en kg: \")))\n",
        "\n",
        "# Solicitar al usuario su talla.\n",
        "\n",
        "talla = float(input(\"Por favor ingrese su talla en cm: \"))\n",
        "\n",
        "# Calcular el IMC.\n",
        "\n",
        "imc = peso/talla**2\n",
        "\n",
        "# Mostrarle al usuario su IMC.\n",
        "\n",
        "print(f\"Tu indice de masa corporal es de:{imc:.2f}\")\n",
        "\n",
        "# Indicaarle al usuario su estado actual.\n",
        "\n",
        "if imc < 18.5:\n",
        "    print(\"Tu estado actual es: Bajo peso\")\n",
        "\n",
        "elif imc >= 18.5 and imc <= 24.9:\n",
        "    print(\"Tu estado actual es: Peso normal\")\n",
        "\n",
        "elif imc >= 25 and imc <= 29.9:\n",
        "    print(\"Tu estado actual es: Sobrepeso\")\n",
        "\n",
        "else:\n",
        "    print(\"Tu estado actual es: Obesidad\")\n",
        "\n",
        "\n",
        "\n",
        "\n",
        "\n",
        "\n",
        "\n",
        "\n",
        "\n",
        "\n",
        "\n",
        "\n",
        "\n",
        "\n",
        "\n",
        "\n",
        "\n"
      ],
      "metadata": {
        "colab": {
          "base_uri": "https://localhost:8080/"
        },
        "id": "W3mkliHHxCx2",
        "outputId": "741ea566-a0df-43e3-e953-a57bb17b1029"
      },
      "execution_count": 11,
      "outputs": [
        {
          "output_type": "stream",
          "name": "stdout",
          "text": [
            "Bienvenido, con este programa podras calcular tu IMC solo con ingresar ciertos datos, COMENZEMOS 😊\n",
            "Por favor ingresa tu peso en kg: 90\n",
            "Por favor ingrese su talla en cm: 1.96\n",
            "Tu indice de masa corporal es de:23.43\n",
            "Tu estado actual es: Peso normal\n"
          ]
        }
      ]
    },
    {
      "cell_type": "markdown",
      "source": [
        "* <font color = 'Blue' size = 3> Quinto Punto: </font>"
      ],
      "metadata": {
        "id": "Y0qtvcYrz7Gu"
      }
    },
    {
      "cell_type": "code",
      "source": [
        "# Darle la binvenida al usuario\n",
        "\n",
        "print(\"Bievenido con este programa podras conocer la suma, resta, producto y cociente de dos numeros.😊\")\n",
        "\n",
        "#solicitarle al usuario dos numeros.\n",
        "\n",
        "num1 = int(float(input(\"Por favor ingresa el primer numero: \")))\n",
        "num2 = int(float(input(\"Por favor ingresa el segundo numero: \")))\n",
        "\n",
        "# Operaciones:\n",
        "\n",
        "sum = num1 + num2\n",
        "res = num1 - num2\n",
        "pro = num1 * num2\n",
        "coc = num1 / num2\n",
        "\n",
        "# Mostrarle al usuario sus resultados.\n",
        "\n",
        "print(f\"La suma de los numeros es: {sum}\")\n",
        "print(f\"La resta de los numeros es: {res}\")\n",
        "print(f\"El producto de los numeros es: {pro}\")\n",
        "print(f\"El cociente de los numeros es: {coc:.2f}\")\n"
      ],
      "metadata": {
        "colab": {
          "base_uri": "https://localhost:8080/"
        },
        "id": "9MmwY3h30EsW",
        "outputId": "99fbcc34-bce1-4c58-c1ee-a85767031290"
      },
      "execution_count": 13,
      "outputs": [
        {
          "output_type": "stream",
          "name": "stdout",
          "text": [
            "Bievenido con este programa podras conocer la suma, resta, producto y cociente de dos numeros.😊\n",
            "Por favor ingresa el primer numero: 2\n",
            "Por favor ingresa el segundo numero: 3\n",
            "La suma de los numeros es: 5\n",
            "La resta de los numeros es: -1\n",
            "El producto de los numeros es: 6\n",
            "El cociente de los numeros es: 0.67\n"
          ]
        }
      ]
    },
    {
      "cell_type": "markdown",
      "source": [
        "* <font color = 'Blue' size = 3> Sexto Punto: </font>"
      ],
      "metadata": {
        "id": "gR1XDux61Npp"
      }
    },
    {
      "cell_type": "code",
      "source": [
        "# Lista de precios del barril de petróleo en los últimos 7 días\n",
        "\n",
        "precios_petroleo = [75.5, 76.2, 74.8, 75.9, 76.5, 77.1, 76.13]\n",
        "\n",
        "# Datos para calcular el precio del barril de Coca-Cola\n",
        "\n",
        "precio_litro_cocacola_cop = 5200  # Precio de un litro de Coca-Cola en pesos colombianos\n",
        "tipo_cambio_cop_usd = 3900        # Tipo de cambio (pesos colombianos por dólar)\n",
        "litros_por_barril = 159           # Número de litros en un barril\n",
        "\n",
        "# Cálculo del precio de un barril de Coca-Cola en USD\n",
        "\n",
        "precio_barril_cocacola_cop = precio_litro_cocacola_cop * litros_por_barril\n",
        "precio_barril_cocacola_usd = precio_barril_cocacola_cop / tipo_cambio_cop_usd\n",
        "\n",
        "# Lista de precios del barril de Coca-Cola (asumiendo precio estable en los 7 días)\n",
        "\n",
        "precios_cocacola = [precio_barril_cocacola_usd] * 7\n",
        "\n",
        "# Lista con la relación de precios entre un barril de Coca-Cola y un barril de petróleo\n",
        "\n",
        "relacion_precios = [precio_barril_cocacola_usd / precio for precio in precios_petroleo]\n",
        "\n",
        "# Mostramos los resultados\n",
        "\n",
        "print(\"Precios del barril de petróleo en los últimos 7 días (USD):\", precios_petroleo)\n",
        "print(\"Precios del barril de Coca-Cola en los últimos 7 días (USD):\", precios_cocacola)\n",
        "print(\"Relación de precios (Coca-Cola/Petróleo) en los últimos 7 días:\", relacion_precios)\n"
      ],
      "metadata": {
        "colab": {
          "base_uri": "https://localhost:8080/"
        },
        "id": "epviieqU1Wd8",
        "outputId": "250f0617-0732-441b-dce1-7366bc9ca262"
      },
      "execution_count": 16,
      "outputs": [
        {
          "output_type": "stream",
          "name": "stdout",
          "text": [
            "Precios del barril de petróleo en los últimos 7 días (USD): [75.5, 76.2, 74.8, 75.9, 76.5, 77.1, 76.13]\n",
            "Precios del barril de Coca-Cola en los últimos 7 días (USD): [212.0, 212.0, 212.0, 212.0, 212.0, 212.0, 212.0]\n",
            "Relación de precios (Coca-Cola/Petróleo) en los últimos 7 días: [2.80794701986755, 2.7821522309711284, 2.8342245989304815, 2.793148880105402, 2.7712418300653594, 2.749675745784695, 2.7847103638513073]\n"
          ]
        }
      ]
    }
  ]
}